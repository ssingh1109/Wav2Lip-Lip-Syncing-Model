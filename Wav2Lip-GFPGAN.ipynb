{
  "cells": [
    {
      "cell_type": "code",
      "execution_count": 1,
      "metadata": {
        "id": "mH7A_OaFUs8U"
      },
      "outputs": [
        {
          "name": "stdout",
          "output_type": "stream",
          "text": [
            "Downloaded successfully: D:\\wav2lip-HD-main\\Wav2Lip-GFPGAN\\Wav2Lip-master\\face_detection/detection/sfd/s3fd.pth\n",
            "Downloaded successfully: D:\\wav2lip-HD-main\\Wav2Lip-GFPGAN\\Wav2Lip-master\\checkpoints/wav2lip_gan.pth\n",
            "Downloaded successfully: D:\\wav2lip-HD-main\\Wav2Lip-GFPGAN\\GFPGAN-master\\experiments/pretrained_models/GFPGANv1.3.pth\n"
          ]
        }
      ],
      "source": [
        "import os\n",
        "import shutil\n",
        "import requests\n",
        "from requests.exceptions import RequestException\n",
        "\n",
        "# Define the base path and folder names\n",
        "base_path = r\"D:\\wav2lip-HD-main\\Wav2Lip-GFPGAN\"\n",
        "wav2lip_path = os.path.join(base_path, 'Wav2Lip-master')\n",
        "gfpgan_path = os.path.join(base_path, 'GFPGAN-master')\n",
        "\n",
        "# Ensure the necessary directories exist\n",
        "os.makedirs(os.path.join(wav2lip_path, 'face_detection/detection/sfd'), exist_ok=True)\n",
        "os.makedirs(os.path.join(wav2lip_path, 'checkpoints'), exist_ok=True)\n",
        "os.makedirs(os.path.join(gfpgan_path, 'experiments/pretrained_models'), exist_ok=True)\n",
        "\n",
        "# Function to download a file from a URL with retries\n",
        "def download_file(url, dest_path, retries=3):\n",
        "    for attempt in range(retries):\n",
        "        try:\n",
        "            response = requests.get(url, stream=True, timeout=60)\n",
        "            response.raise_for_status()  # Check for errors\n",
        "            with open(dest_path, 'wb') as file:\n",
        "                for chunk in response.iter_content(chunk_size=8192):\n",
        "                    if chunk:  # filter out keep-alive new chunks\n",
        "                        file.write(chunk)\n",
        "            print(f\"Downloaded successfully: {dest_path}\")\n",
        "            return\n",
        "        except RequestException as e:\n",
        "            print(f\"Error downloading {url}: {e}. Retrying {attempt + 1}/{retries}\")\n",
        "        except IncompleteRead as e:\n",
        "            print(f\"Incomplete read error: {e}. Retrying {attempt + 1}/{retries}\")\n",
        "    print(f\"Failed to download {url} after {retries} attempts\")\n",
        "\n",
        "# Paths to download files\n",
        "s3fd_path = os.path.join(wav2lip_path, 'face_detection/detection/sfd/s3fd.pth')\n",
        "wav2lip_gan_path = os.path.join(wav2lip_path, 'checkpoints/wav2lip_gan.pth')\n",
        "gfpgan_pth_path = os.path.join(gfpgan_path, 'experiments/pretrained_models/GFPGANv1.3.pth')\n",
        "\n",
        "# Download the necessary files with retry logic\n",
        "download_file('https://www.adrianbulat.com/downloads/python-fan/s3fd-619a316812.pth', s3fd_path)\n",
        "download_file('https://iiitaphyd-my.sharepoint.com/personal/radrabha_m_research_iiit_ac_in/_layouts/15/download.aspx?share=EdjI7bZlgApMqsVoEUUXpLsBxqXbn5z8VTmoxp55YNDcIA', wav2lip_gan_path)\n",
        "download_file('https://github.com/TencentARC/GFPGAN/releases/download/v1.3.0/GFPGANv1.3.pth', gfpgan_pth_path)\n"
      ]
    },
    {
      "cell_type": "code",
      "execution_count": 2,
      "metadata": {
        "id": "CAJqWQS17Qk1"
      },
      "outputs": [
        {
          "name": "stdout",
          "output_type": "stream",
          "text": [
            "Defaulting to user installation because normal site-packages is not writeable\n",
            "Requirement already satisfied: setuptools in c:\\users\\dell\\appdata\\local\\packages\\pythonsoftwarefoundation.python.3.12_qbz5n2kfra8p0\\localcache\\local-packages\\python312\\site-packages (69.2.0)\n",
            "Note: you may need to restart the kernel to use updated packages.\n",
            "Defaulting to user installation because normal site-packages is not writeable\n",
            "Collecting librosa==0.10.0 (from -r requirements.txt (line 1))\n",
            "  Using cached librosa-0.10.0-py3-none-any.whl.metadata (8.3 kB)\n",
            "Collecting numpy<1.24.1 (from -r requirements.txt (line 2))\n",
            "  Using cached numpy-1.24.0.tar.gz (10.9 MB)\n",
            "  Installing build dependencies: started\n",
            "  Installing build dependencies: finished with status 'done'\n",
            "  Getting requirements to build wheel: started\n",
            "  Getting requirements to build wheel: finished with status 'done'\n",
            "Note: you may need to restart the kernel to use updated packages.\n"
          ]
        },
        {
          "name": "stderr",
          "output_type": "stream",
          "text": [
            "ERROR: Exception:\n",
            "Traceback (most recent call last):\n",
            "  File \"C:\\Program Files\\WindowsApps\\PythonSoftwareFoundation.Python.3.12_3.12.1008.0_x64__qbz5n2kfra8p0\\Lib\\site-packages\\pip\\_internal\\cli\\base_command.py\", line 180, in exc_logging_wrapper\n",
            "    status = run_func(*args)\n",
            "             ^^^^^^^^^^^^^^^\n",
            "  File \"C:\\Program Files\\WindowsApps\\PythonSoftwareFoundation.Python.3.12_3.12.1008.0_x64__qbz5n2kfra8p0\\Lib\\site-packages\\pip\\_internal\\cli\\req_command.py\", line 245, in wrapper\n",
            "    return func(self, options, args)\n",
            "           ^^^^^^^^^^^^^^^^^^^^^^^^^\n",
            "  File \"C:\\Program Files\\WindowsApps\\PythonSoftwareFoundation.Python.3.12_3.12.1008.0_x64__qbz5n2kfra8p0\\Lib\\site-packages\\pip\\_internal\\commands\\install.py\", line 377, in run\n",
            "    requirement_set = resolver.resolve(\n",
            "                      ^^^^^^^^^^^^^^^^^\n",
            "  File \"C:\\Program Files\\WindowsApps\\PythonSoftwareFoundation.Python.3.12_3.12.1008.0_x64__qbz5n2kfra8p0\\Lib\\site-packages\\pip\\_internal\\resolution\\resolvelib\\resolver.py\", line 95, in resolve\n",
            "    result = self._result = resolver.resolve(\n",
            "                            ^^^^^^^^^^^^^^^^^\n",
            "  File \"C:\\Program Files\\WindowsApps\\PythonSoftwareFoundation.Python.3.12_3.12.1008.0_x64__qbz5n2kfra8p0\\Lib\\site-packages\\pip\\_vendor\\resolvelib\\resolvers.py\", line 546, in resolve\n",
            "    state = resolution.resolve(requirements, max_rounds=max_rounds)\n",
            "            ^^^^^^^^^^^^^^^^^^^^^^^^^^^^^^^^^^^^^^^^^^^^^^^^^^^^^^^\n",
            "  File \"C:\\Program Files\\WindowsApps\\PythonSoftwareFoundation.Python.3.12_3.12.1008.0_x64__qbz5n2kfra8p0\\Lib\\site-packages\\pip\\_vendor\\resolvelib\\resolvers.py\", line 397, in resolve\n",
            "    self._add_to_criteria(self.state.criteria, r, parent=None)\n",
            "  File \"C:\\Program Files\\WindowsApps\\PythonSoftwareFoundation.Python.3.12_3.12.1008.0_x64__qbz5n2kfra8p0\\Lib\\site-packages\\pip\\_vendor\\resolvelib\\resolvers.py\", line 173, in _add_to_criteria\n",
            "    if not criterion.candidates:\n",
            "           ^^^^^^^^^^^^^^^^^^^^\n",
            "  File \"C:\\Program Files\\WindowsApps\\PythonSoftwareFoundation.Python.3.12_3.12.1008.0_x64__qbz5n2kfra8p0\\Lib\\site-packages\\pip\\_vendor\\resolvelib\\structs.py\", line 156, in __bool__\n",
            "    return bool(self._sequence)\n",
            "           ^^^^^^^^^^^^^^^^^^^^\n",
            "  File \"C:\\Program Files\\WindowsApps\\PythonSoftwareFoundation.Python.3.12_3.12.1008.0_x64__qbz5n2kfra8p0\\Lib\\site-packages\\pip\\_internal\\resolution\\resolvelib\\found_candidates.py\", line 155, in __bool__\n",
            "    return any(self)\n",
            "           ^^^^^^^^^\n",
            "  File \"C:\\Program Files\\WindowsApps\\PythonSoftwareFoundation.Python.3.12_3.12.1008.0_x64__qbz5n2kfra8p0\\Lib\\site-packages\\pip\\_internal\\resolution\\resolvelib\\found_candidates.py\", line 143, in <genexpr>\n",
            "    return (c for c in iterator if id(c) not in self._incompatible_ids)\n",
            "           ^^^^^^^^^^^^^^^^^^^^^^^^^^^^^^^^^^^^^^^^^^^^^^^^^^^^^^^^^^^^\n",
            "  File \"C:\\Program Files\\WindowsApps\\PythonSoftwareFoundation.Python.3.12_3.12.1008.0_x64__qbz5n2kfra8p0\\Lib\\site-packages\\pip\\_internal\\resolution\\resolvelib\\found_candidates.py\", line 47, in _iter_built\n",
            "    candidate = func()\n",
            "                ^^^^^^\n",
            "  File \"C:\\Program Files\\WindowsApps\\PythonSoftwareFoundation.Python.3.12_3.12.1008.0_x64__qbz5n2kfra8p0\\Lib\\site-packages\\pip\\_internal\\resolution\\resolvelib\\factory.py\", line 182, in _make_candidate_from_link\n",
            "    base: Optional[BaseCandidate] = self._make_base_candidate_from_link(\n",
            "                                    ^^^^^^^^^^^^^^^^^^^^^^^^^^^^^^^^^^^^\n",
            "  File \"C:\\Program Files\\WindowsApps\\PythonSoftwareFoundation.Python.3.12_3.12.1008.0_x64__qbz5n2kfra8p0\\Lib\\site-packages\\pip\\_internal\\resolution\\resolvelib\\factory.py\", line 228, in _make_base_candidate_from_link\n",
            "    self._link_candidate_cache[link] = LinkCandidate(\n",
            "                                       ^^^^^^^^^^^^^^\n",
            "  File \"C:\\Program Files\\WindowsApps\\PythonSoftwareFoundation.Python.3.12_3.12.1008.0_x64__qbz5n2kfra8p0\\Lib\\site-packages\\pip\\_internal\\resolution\\resolvelib\\candidates.py\", line 290, in __init__\n",
            "    super().__init__(\n",
            "  File \"C:\\Program Files\\WindowsApps\\PythonSoftwareFoundation.Python.3.12_3.12.1008.0_x64__qbz5n2kfra8p0\\Lib\\site-packages\\pip\\_internal\\resolution\\resolvelib\\candidates.py\", line 156, in __init__\n",
            "    self.dist = self._prepare()\n",
            "                ^^^^^^^^^^^^^^^\n",
            "  File \"C:\\Program Files\\WindowsApps\\PythonSoftwareFoundation.Python.3.12_3.12.1008.0_x64__qbz5n2kfra8p0\\Lib\\site-packages\\pip\\_internal\\resolution\\resolvelib\\candidates.py\", line 222, in _prepare\n",
            "    dist = self._prepare_distribution()\n",
            "           ^^^^^^^^^^^^^^^^^^^^^^^^^^^^\n",
            "  File \"C:\\Program Files\\WindowsApps\\PythonSoftwareFoundation.Python.3.12_3.12.1008.0_x64__qbz5n2kfra8p0\\Lib\\site-packages\\pip\\_internal\\resolution\\resolvelib\\candidates.py\", line 301, in _prepare_distribution\n",
            "    return preparer.prepare_linked_requirement(self._ireq, parallel_builds=True)\n",
            "           ^^^^^^^^^^^^^^^^^^^^^^^^^^^^^^^^^^^^^^^^^^^^^^^^^^^^^^^^^^^^^^^^^^^^^\n",
            "  File \"C:\\Program Files\\WindowsApps\\PythonSoftwareFoundation.Python.3.12_3.12.1008.0_x64__qbz5n2kfra8p0\\Lib\\site-packages\\pip\\_internal\\operations\\prepare.py\", line 525, in prepare_linked_requirement\n",
            "    return self._prepare_linked_requirement(req, parallel_builds)\n",
            "           ^^^^^^^^^^^^^^^^^^^^^^^^^^^^^^^^^^^^^^^^^^^^^^^^^^^^^^\n",
            "  File \"C:\\Program Files\\WindowsApps\\PythonSoftwareFoundation.Python.3.12_3.12.1008.0_x64__qbz5n2kfra8p0\\Lib\\site-packages\\pip\\_internal\\operations\\prepare.py\", line 640, in _prepare_linked_requirement\n",
            "    dist = _get_prepared_distribution(\n",
            "           ^^^^^^^^^^^^^^^^^^^^^^^^^^^\n",
            "  File \"C:\\Program Files\\WindowsApps\\PythonSoftwareFoundation.Python.3.12_3.12.1008.0_x64__qbz5n2kfra8p0\\Lib\\site-packages\\pip\\_internal\\operations\\prepare.py\", line 71, in _get_prepared_distribution\n",
            "    abstract_dist.prepare_distribution_metadata(\n",
            "  File \"C:\\Program Files\\WindowsApps\\PythonSoftwareFoundation.Python.3.12_3.12.1008.0_x64__qbz5n2kfra8p0\\Lib\\site-packages\\pip\\_internal\\distributions\\sdist.py\", line 54, in prepare_distribution_metadata\n",
            "    self._install_build_reqs(finder)\n",
            "  File \"C:\\Program Files\\WindowsApps\\PythonSoftwareFoundation.Python.3.12_3.12.1008.0_x64__qbz5n2kfra8p0\\Lib\\site-packages\\pip\\_internal\\distributions\\sdist.py\", line 124, in _install_build_reqs\n",
            "    build_reqs = self._get_build_requires_wheel()\n",
            "                 ^^^^^^^^^^^^^^^^^^^^^^^^^^^^^^^^\n",
            "  File \"C:\\Program Files\\WindowsApps\\PythonSoftwareFoundation.Python.3.12_3.12.1008.0_x64__qbz5n2kfra8p0\\Lib\\site-packages\\pip\\_internal\\distributions\\sdist.py\", line 101, in _get_build_requires_wheel\n",
            "    return backend.get_requires_for_build_wheel()\n",
            "           ^^^^^^^^^^^^^^^^^^^^^^^^^^^^^^^^^^^^^^\n",
            "  File \"C:\\Program Files\\WindowsApps\\PythonSoftwareFoundation.Python.3.12_3.12.1008.0_x64__qbz5n2kfra8p0\\Lib\\site-packages\\pip\\_internal\\utils\\misc.py\", line 745, in get_requires_for_build_wheel\n",
            "    return super().get_requires_for_build_wheel(config_settings=cs)\n",
            "           ^^^^^^^^^^^^^^^^^^^^^^^^^^^^^^^^^^^^^^^^^^^^^^^^^^^^^^^^\n",
            "  File \"C:\\Program Files\\WindowsApps\\PythonSoftwareFoundation.Python.3.12_3.12.1008.0_x64__qbz5n2kfra8p0\\Lib\\site-packages\\pip\\_vendor\\pyproject_hooks\\_impl.py\", line 166, in get_requires_for_build_wheel\n",
            "    return self._call_hook('get_requires_for_build_wheel', {\n",
            "           ^^^^^^^^^^^^^^^^^^^^^^^^^^^^^^^^^^^^^^^^^^^^^^^^^\n",
            "  File \"C:\\Program Files\\WindowsApps\\PythonSoftwareFoundation.Python.3.12_3.12.1008.0_x64__qbz5n2kfra8p0\\Lib\\site-packages\\pip\\_vendor\\pyproject_hooks\\_impl.py\", line 321, in _call_hook\n",
            "    raise BackendUnavailable(data.get('traceback', ''))\n",
            "pip._vendor.pyproject_hooks._impl.BackendUnavailable: Traceback (most recent call last):\n",
            "  File \"C:\\Program Files\\WindowsApps\\PythonSoftwareFoundation.Python.3.12_3.12.1008.0_x64__qbz5n2kfra8p0\\Lib\\site-packages\\pip\\_vendor\\pyproject_hooks\\_in_process\\_in_process.py\", line 77, in _build_backend\n",
            "    obj = import_module(mod_path)\n",
            "          ^^^^^^^^^^^^^^^^^^^^^^^\n",
            "  File \"C:\\Program Files\\WindowsApps\\PythonSoftwareFoundation.Python.3.12_3.12.1008.0_x64__qbz5n2kfra8p0\\Lib\\importlib\\__init__.py\", line 90, in import_module\n",
            "    return _bootstrap._gcd_import(name[level:], package, level)\n",
            "           ^^^^^^^^^^^^^^^^^^^^^^^^^^^^^^^^^^^^^^^^^^^^^^^^^^^^\n",
            "  File \"<frozen importlib._bootstrap>\", line 1387, in _gcd_import\n",
            "  File \"<frozen importlib._bootstrap>\", line 1360, in _find_and_load\n",
            "  File \"<frozen importlib._bootstrap>\", line 1310, in _find_and_load_unlocked\n",
            "  File \"<frozen importlib._bootstrap>\", line 488, in _call_with_frames_removed\n",
            "  File \"<frozen importlib._bootstrap>\", line 1387, in _gcd_import\n",
            "  File \"<frozen importlib._bootstrap>\", line 1360, in _find_and_load\n",
            "  File \"<frozen importlib._bootstrap>\", line 1331, in _find_and_load_unlocked\n",
            "  File \"<frozen importlib._bootstrap>\", line 935, in _load_unlocked\n",
            "  File \"<frozen importlib._bootstrap_external>\", line 995, in exec_module\n",
            "  File \"<frozen importlib._bootstrap>\", line 488, in _call_with_frames_removed\n",
            "  File \"C:\\Users\\dell\\AppData\\Local\\Temp\\pip-build-env-xa00a2pv\\overlay\\Lib\\site-packages\\setuptools\\__init__.py\", line 10, in <module>\n",
            "    import distutils.core\n",
            "ModuleNotFoundError: No module named 'distutils'\n",
            "\n"
          ]
        },
        {
          "name": "stdout",
          "output_type": "stream",
          "text": [
            "Defaulting to user installation because normal site-packages is not writeable\n",
            "Requirement already satisfied: librosa==0.8.1 in c:\\users\\dell\\appdata\\local\\packages\\pythonsoftwarefoundation.python.3.12_qbz5n2kfra8p0\\localcache\\local-packages\\python312\\site-packages (0.8.1)\n",
            "Requirement already satisfied: audioread>=2.0.0 in c:\\users\\dell\\appdata\\local\\packages\\pythonsoftwarefoundation.python.3.12_qbz5n2kfra8p0\\localcache\\local-packages\\python312\\site-packages (from librosa==0.8.1) (3.0.1)\n",
            "Requirement already satisfied: numpy>=1.15.0 in c:\\users\\dell\\appdata\\local\\packages\\pythonsoftwarefoundation.python.3.12_qbz5n2kfra8p0\\localcache\\local-packages\\python312\\site-packages (from librosa==0.8.1) (1.26.4)\n",
            "Requirement already satisfied: scipy>=1.0.0 in c:\\users\\dell\\appdata\\local\\packages\\pythonsoftwarefoundation.python.3.12_qbz5n2kfra8p0\\localcache\\local-packages\\python312\\site-packages (from librosa==0.8.1) (1.12.0)\n",
            "Requirement already satisfied: scikit-learn!=0.19.0,>=0.14.0 in c:\\users\\dell\\appdata\\local\\packages\\pythonsoftwarefoundation.python.3.12_qbz5n2kfra8p0\\localcache\\local-packages\\python312\\site-packages (from librosa==0.8.1) (1.4.1.post1)\n",
            "Requirement already satisfied: joblib>=0.14 in c:\\users\\dell\\appdata\\local\\packages\\pythonsoftwarefoundation.python.3.12_qbz5n2kfra8p0\\localcache\\local-packages\\python312\\site-packages (from librosa==0.8.1) (1.3.2)\n",
            "Requirement already satisfied: decorator>=3.0.0 in c:\\users\\dell\\appdata\\local\\packages\\pythonsoftwarefoundation.python.3.12_qbz5n2kfra8p0\\localcache\\local-packages\\python312\\site-packages (from librosa==0.8.1) (4.4.2)\n",
            "Requirement already satisfied: resampy>=0.2.2 in c:\\users\\dell\\appdata\\local\\packages\\pythonsoftwarefoundation.python.3.12_qbz5n2kfra8p0\\localcache\\local-packages\\python312\\site-packages (from librosa==0.8.1) (0.4.3)\n",
            "Requirement already satisfied: numba>=0.43.0 in c:\\users\\dell\\appdata\\local\\packages\\pythonsoftwarefoundation.python.3.12_qbz5n2kfra8p0\\localcache\\local-packages\\python312\\site-packages (from librosa==0.8.1) (0.59.1)\n",
            "Requirement already satisfied: soundfile>=0.10.2 in c:\\users\\dell\\appdata\\local\\packages\\pythonsoftwarefoundation.python.3.12_qbz5n2kfra8p0\\localcache\\local-packages\\python312\\site-packages (from librosa==0.8.1) (0.12.1)\n",
            "Requirement already satisfied: pooch>=1.0 in c:\\users\\dell\\appdata\\local\\packages\\pythonsoftwarefoundation.python.3.12_qbz5n2kfra8p0\\localcache\\local-packages\\python312\\site-packages (from librosa==0.8.1) (1.8.2)\n",
            "Requirement already satisfied: packaging>=20.0 in c:\\users\\dell\\appdata\\local\\packages\\pythonsoftwarefoundation.python.3.12_qbz5n2kfra8p0\\localcache\\local-packages\\python312\\site-packages (from librosa==0.8.1) (24.0)\n",
            "Requirement already satisfied: llvmlite<0.43,>=0.42.0dev0 in c:\\users\\dell\\appdata\\local\\packages\\pythonsoftwarefoundation.python.3.12_qbz5n2kfra8p0\\localcache\\local-packages\\python312\\site-packages (from numba>=0.43.0->librosa==0.8.1) (0.42.0)\n",
            "Requirement already satisfied: platformdirs>=2.5.0 in c:\\users\\dell\\appdata\\local\\packages\\pythonsoftwarefoundation.python.3.12_qbz5n2kfra8p0\\localcache\\local-packages\\python312\\site-packages (from pooch>=1.0->librosa==0.8.1) (4.2.0)\n",
            "Requirement already satisfied: requests>=2.19.0 in c:\\users\\dell\\appdata\\local\\packages\\pythonsoftwarefoundation.python.3.12_qbz5n2kfra8p0\\localcache\\local-packages\\python312\\site-packages (from pooch>=1.0->librosa==0.8.1) (2.31.0)\n",
            "Requirement already satisfied: threadpoolctl>=2.0.0 in c:\\users\\dell\\appdata\\local\\packages\\pythonsoftwarefoundation.python.3.12_qbz5n2kfra8p0\\localcache\\local-packages\\python312\\site-packages (from scikit-learn!=0.19.0,>=0.14.0->librosa==0.8.1) (3.4.0)\n",
            "Requirement already satisfied: cffi>=1.0 in c:\\users\\dell\\appdata\\local\\packages\\pythonsoftwarefoundation.python.3.12_qbz5n2kfra8p0\\localcache\\local-packages\\python312\\site-packages (from soundfile>=0.10.2->librosa==0.8.1) (1.16.0)\n",
            "Requirement already satisfied: pycparser in c:\\users\\dell\\appdata\\local\\packages\\pythonsoftwarefoundation.python.3.12_qbz5n2kfra8p0\\localcache\\local-packages\\python312\\site-packages (from cffi>=1.0->soundfile>=0.10.2->librosa==0.8.1) (2.22)\n",
            "Requirement already satisfied: charset-normalizer<4,>=2 in c:\\users\\dell\\appdata\\local\\packages\\pythonsoftwarefoundation.python.3.12_qbz5n2kfra8p0\\localcache\\local-packages\\python312\\site-packages (from requests>=2.19.0->pooch>=1.0->librosa==0.8.1) (3.3.2)\n",
            "Requirement already satisfied: idna<4,>=2.5 in c:\\users\\dell\\appdata\\local\\packages\\pythonsoftwarefoundation.python.3.12_qbz5n2kfra8p0\\localcache\\local-packages\\python312\\site-packages (from requests>=2.19.0->pooch>=1.0->librosa==0.8.1) (3.6)\n",
            "Requirement already satisfied: urllib3<3,>=1.21.1 in c:\\users\\dell\\appdata\\local\\packages\\pythonsoftwarefoundation.python.3.12_qbz5n2kfra8p0\\localcache\\local-packages\\python312\\site-packages (from requests>=2.19.0->pooch>=1.0->librosa==0.8.1) (2.2.1)\n",
            "Requirement already satisfied: certifi>=2017.4.17 in c:\\users\\dell\\appdata\\local\\packages\\pythonsoftwarefoundation.python.3.12_qbz5n2kfra8p0\\localcache\\local-packages\\python312\\site-packages (from requests>=2.19.0->pooch>=1.0->librosa==0.8.1) (2024.2.2)\n",
            "Note: you may need to restart the kernel to use updated packages.\n"
          ]
        }
      ],
      "source": [
        "# Install distutils using ensurepip\n",
        "import ensurepip\n",
        "ensurepip.bootstrap()\n",
        "\n",
        "# Alternatively, install setuptools which includes distutils\n",
        "%pip install setuptools\n",
        "\n",
        "# Install the required Python packages\n",
        "%pip install -r requirements.txt\n",
        "%pip install -U librosa==0.8.1\n"
      ]
    },
    {
      "cell_type": "code",
      "execution_count": 3,
      "metadata": {},
      "outputs": [
        {
          "name": "stdout",
          "output_type": "stream",
          "text": [
            "Replacement complete.\n"
          ]
        }
      ],
      "source": [
        "import os\n",
        "\n",
        "base_path = r\"D:\\wav2lip-HD-main\\Wav2Lip-GFPGAN\\Wav2Lip-master\"\n",
        "\n",
        "for root, dirs, files in os.walk(base_path):\n",
        "    for file in files:\n",
        "        if file.endswith(\".py\"):\n",
        "            file_path = os.path.join(root, file)\n",
        "            with open(file_path, 'r') as f:\n",
        "                content = f.read()\n",
        "            \n",
        "            updated_content = content.replace('np.float', 'float')\n",
        "\n",
        "            with open(file_path, 'w') as f:\n",
        "                f.write(updated_content)\n",
        "\n",
        "print(\"Replacement complete.\")\n"
      ]
    },
    {
      "cell_type": "code",
      "execution_count": 4,
      "metadata": {
        "id": "EqX_2YtkUjRI"
      },
      "outputs": [
        {
          "name": "stdout",
          "output_type": "stream",
          "text": [
            "Error occurred:\n",
            "Return code: 1\n",
            "Command: ['python', 'inference.py', '--checkpoint_path', 'checkpoints/wav2lip.pth', '--face', 'D:\\\\wav2lip-HD-main\\\\Wav2Lip-GFPGAN\\\\inputs\\\\kim_7s_raw.mp4', '--audio', 'D:\\\\wav2lip-HD-main\\\\Wav2Lip-GFPGAN\\\\inputs\\\\kimk_audio.mp3', '--outfile', 'D:\\\\wav2lip-HD-main\\\\Wav2Lip-GFPGAN\\\\outputs\\\\result.mp4']\n",
            "Output:\n",
            " Using cpu for inference.\n",
            "Reading video frames...\n",
            "Number of frames available for inference: 223\n",
            "Extracting raw audio...\n",
            "\n",
            "Error:\n",
            " ffmpeg version N-115838-g4e4444f97c-20240615 Copyright (c) 2000-2024 the FFmpeg developers\n",
            "  built with gcc 13.2.0 (crosstool-NG 1.26.0.65_ecc5e41)\n",
            "  configuration: --prefix=/ffbuild/prefix --pkg-config-flags=--static --pkg-config=pkg-config --cross-prefix=x86_64-w64-mingw32- --arch=x86_64 --target-os=mingw32 --enable-gpl --enable-version3 --disable-debug --disable-w32threads --enable-pthreads --enable-iconv --enable-libxml2 --enable-zlib --enable-libfreetype --enable-libfribidi --enable-gmp --enable-fontconfig --enable-libharfbuzz --enable-libvorbis --enable-opencl --disable-libpulse --enable-libvmaf --disable-libxcb --disable-xlib --enable-amf --enable-libaom --enable-libaribb24 --enable-avisynth --enable-chromaprint --enable-libdav1d --enable-libdavs2 --enable-libdvdread --enable-libdvdnav --disable-libfdk-aac --enable-ffnvcodec --enable-cuda-llvm --enable-frei0r --enable-libgme --enable-libkvazaar --enable-libaribcaption --enable-libass --enable-libbluray --enable-libjxl --enable-libmp3lame --enable-libopus --enable-librist --enable-libssh --enable-libtheora --enable-libvpx --enable-libwebp --enable-lv2 --enable-libvpl --enable-openal --enable-libopencore-amrnb --enable-libopencore-amrwb --enable-libopenh264 --enable-libopenjpeg --enable-libopenmpt --enable-librav1e --enable-librubberband --enable-schannel --enable-sdl2 --enable-libsoxr --enable-libsrt --enable-libsvtav1 --enable-libtwolame --enable-libuavs3d --disable-libdrm --enable-vaapi --enable-libvidstab --enable-vulkan --enable-libshaderc --enable-libplacebo --enable-libx264 --enable-libx265 --enable-libxavs2 --enable-libxvid --enable-libzimg --enable-libzvbi --extra-cflags=-DLIBTWOLAME_STATIC --extra-cxxflags= --extra-libs=-lgomp --extra-ldflags=-pthread --extra-ldexeflags= --cc=x86_64-w64-mingw32-gcc --cxx=x86_64-w64-mingw32-g++ --ar=x86_64-w64-mingw32-gcc-ar --ranlib=x86_64-w64-mingw32-gcc-ranlib --nm=x86_64-w64-mingw32-gcc-nm --extra-version=20240615\n",
            "  libavutil      59. 22.100 / 59. 22.100\n",
            "  libavcodec     61.  7.100 / 61.  7.100\n",
            "  libavformat    61.  3.104 / 61.  3.104\n",
            "  libavdevice    61.  2.100 / 61.  2.100\n",
            "  libavfilter    10.  2.102 / 10.  2.102\n",
            "  libswscale      8.  2.100 /  8.  2.100\n",
            "  libswresample   5.  2.100 /  5.  2.100\n",
            "  libpostproc    58.  2.100 / 58.  2.100\n",
            "Input #0, mp3, from 'D:\\wav2lip-HD-main\\Wav2Lip-GFPGAN\\inputs\\kimk_audio.mp3':\n",
            "  Metadata:\n",
            "    encoder         : Lavf59.16.100\n",
            "  Duration: 00:00:08.16, start: 0.023021, bitrate: 320 kb/s\n",
            "  Stream #0:0: Audio: mp3 (mp3float), 48000 Hz, stereo, fltp, 320 kb/s\n",
            "      Metadata:\n",
            "        encoder         : Lavc59.18\n",
            "Stream mapping:\n",
            "  Stream #0:0 -> #0:0 (mp3 (mp3float) -> pcm_s16le (native))\n",
            "Press [q] to stop, [?] for help\n",
            "Output #0, wav, to 'temp/temp.wav':\n",
            "  Metadata:\n",
            "    ISFT            : Lavf61.3.104\n",
            "  Stream #0:0: Audio: pcm_s16le ([1][0][0][0] / 0x0001), 48000 Hz, stereo, s16, 1536 kb/s\n",
            "      Metadata:\n",
            "        encoder         : Lavc61.7.100 pcm_s16le\n",
            "[out#0/wav @ 0000023a06b07200] video:0KiB audio:1524KiB subtitle:0KiB other streams:0KiB global headers:0KiB muxing overhead: 0.004998%\n",
            "size=    1524KiB time=00:00:08.12 bitrate=1536.1kbits/s speed=42.8x    \n",
            "Traceback (most recent call last):\n",
            "  File \"D:\\wav2lip-HD-main\\Wav2Lip-GFPGAN\\Wav2Lip-master\\inference.py\", line 280, in <module>\n",
            "    main()\n",
            "  File \"D:\\wav2lip-HD-main\\Wav2Lip-GFPGAN\\Wav2Lip-master\\inference.py\", line 225, in main\n",
            "    mel = audio.melspectrogram(wav)\n",
            "          ^^^^^^^^^^^^^^^^^^^^^^^^^\n",
            "  File \"D:\\wav2lip-HD-main\\Wav2Lip-GFPGAN\\Wav2Lip-master\\audio.py\", line 46, in melspectrogram\n",
            "    D = _stft(preemphasis(wav, hp.preemphasis, hp.preemphasize))\n",
            "        ^^^^^^^^^^^^^^^^^^^^^^^^^^^^^^^^^^^^^^^^^^^^^^^^^^^^^^^^\n",
            "  File \"D:\\wav2lip-HD-main\\Wav2Lip-GFPGAN\\Wav2Lip-master\\audio.py\", line 61, in _stft\n",
            "    return librosa.stft(y=y, n_fft=hp.n_fft, hop_length=get_hop_size(), win_length=hp.win_size)\n",
            "           ^^^^^^^^^^^^^^^^^^^^^^^^^^^^^^^^^^^^^^^^^^^^^^^^^^^^^^^^^^^^^^^^^^^^^^^^^^^^^^^^^^^^\n",
            "  File \"C:\\Users\\dell\\AppData\\Local\\Packages\\PythonSoftwareFoundation.Python.3.12_qbz5n2kfra8p0\\LocalCache\\local-packages\\Python312\\site-packages\\librosa\\core\\spectrum.py\", line 241, in stft\n",
            "    dtype = util.dtype_r2c(y.dtype)\n",
            "            ^^^^^^^^^^^^^^^^^^^^^^^\n",
            "  File \"C:\\Users\\dell\\AppData\\Local\\Packages\\PythonSoftwareFoundation.Python.3.12_qbz5n2kfra8p0\\LocalCache\\local-packages\\Python312\\site-packages\\librosa\\util\\utils.py\", line 2099, in dtype_r2c\n",
            "    np.dtype(np.float): np.complex,\n",
            "             ^^^^^^^^\n",
            "  File \"C:\\Users\\dell\\AppData\\Local\\Packages\\PythonSoftwareFoundation.Python.3.12_qbz5n2kfra8p0\\LocalCache\\local-packages\\Python312\\site-packages\\numpy\\__init__.py\", line 338, in __getattr__\n",
            "    raise AttributeError(__former_attrs__[attr])\n",
            "AttributeError: module 'numpy' has no attribute 'float'.\n",
            "`np.float` was a deprecated alias for the builtin `float`. To avoid this error in existing code, use `float` by itself. Doing this will not modify any behavior and is safe. If you specifically wanted the numpy scalar type, use `np.float64` here.\n",
            "The aliases was originally deprecated in NumPy 1.20; for more details and guidance see the original release note at:\n",
            "    https://numpy.org/devdocs/release/1.20.0-notes.html#deprecations. Did you mean: 'cfloat'?\n",
            "\n"
          ]
        }
      ],
      "source": [
        "import os\n",
        "import subprocess\n",
        "\n",
        "base_path = r\"D:\\wav2lip-HD-main\\Wav2Lip-GFPGAN\"\n",
        "outputPath = os.path.join(base_path, 'outputs')\n",
        "inputAudioPath = os.path.join(base_path, 'inputs', 'kimk_audio.mp3')\n",
        "inputVideoPath = os.path.join(base_path, 'inputs', 'kim_7s_raw.mp4')\n",
        "lipSyncedOutputPath = os.path.join(outputPath, 'result.mp4')\n",
        "tempPath = os.path.join(base_path, 'temp')\n",
        "\n",
        "if not os.path.exists(outputPath):\n",
        "    os.makedirs(outputPath)\n",
        "if not os.path.exists(tempPath):\n",
        "    os.makedirs(tempPath)\n",
        "\n",
        "wav2lipFolderName = 'Wav2Lip-master'\n",
        "os.chdir(os.path.join(base_path, wav2lipFolderName))\n",
        "\n",
        "# Ensure FFmpeg is correctly added to the PATH\n",
        "os.environ[\"PATH\"] += os.pathsep + r\"C:\\Path\\To\\FFmpeg\\bin\"\n",
        "\n",
        "# Command to run the inference script\n",
        "command = [\n",
        "    \"python\", \"inference.py\",\n",
        "    \"--checkpoint_path\", \"checkpoints/wav2lip.pth\",\n",
        "    \"--face\", inputVideoPath,\n",
        "    \"--audio\", inputAudioPath,\n",
        "    \"--outfile\", lipSyncedOutputPath\n",
        "]\n",
        "\n",
        "try:\n",
        "    result = subprocess.run(command, capture_output=True, text=True, check=True)\n",
        "    print(\"Subprocess output:\\n\", result.stdout)\n",
        "    print(\"Subprocess error (if any):\\n\", result.stderr)\n",
        "except subprocess.CalledProcessError as e:\n",
        "    print(\"Error occurred:\")\n",
        "    print(\"Return code:\", e.returncode)\n",
        "    print(\"Command:\", e.cmd)\n",
        "    print(\"Output:\\n\", e.output)\n",
        "    print(\"Error:\\n\", e.stderr)\n",
        "\n",
        "# Running the ffmpeg command manually for debugging\n",
        "ffmpeg_command = [\n",
        "    \"ffmpeg\", \"-i\", inputAudioPath, \"-f\", \"wav\", os.path.join(tempPath, \"temp_audio.wav\")\n",
        "]\n",
        "\n",
        "try:\n",
        "    ffmpeg_result = subprocess.run(ffmpeg_command, capture_output=True, text=True, check=True)\n",
        "    print(\"FFmpeg command output:\\n\", ffmpeg_result.stdout)\n",
        "    print(\"FFmpeg command error (if any):\\n\", ffmpeg_result.stderr)\n",
        "except subprocess.CalledProcessError as e:\n",
        "    print(\"Error occurred during FFmpeg execution:\")\n",
        "    print(\"Return code:\", e.returncode)\n",
        "    print(\"Command:\", e.cmd)\n",
        "    print(\"Output:\\n\", e.output)\n",
        "    print(\"Error:\\n\", e.stderr)\n",
        "\n"
      ]
    },
    {
      "cell_type": "code",
      "execution_count": null,
      "metadata": {
        "id": "PPBew5FGGvP9"
      },
      "outputs": [
        {
          "data": {
            "text/plain": [
              "('D:\\\\wav2lip-HD-main\\\\Wav2Lip-GFPGAN\\\\GFPGAN-master/experiments/pretrained_models/GFPGANv1.3.pth',\n",
              " <http.client.HTTPMessage at 0x2a75c0e09e0>)"
            ]
          },
          "execution_count": 16,
          "metadata": {},
          "output_type": "execute_result"
        }
      ],
      "source": [
        "import urllib.request\n",
        "\n",
        "url = \"https://github.com/TencentARC/GFPGAN/releases/download/v1.3.0/GFPGANv1.3.pth\"\n",
        "save_path = f\"{r\"D:\\wav2lip-HD-main\\Wav2Lip-GFPGAN\\GFPGAN-master\"}/experiments/pretrained_models/GFPGANv1.3.pth\"\n",
        "\n",
        "urllib.request.urlretrieve(url, save_path)\n"
      ]
    },
    {
      "cell_type": "code",
      "execution_count": null,
      "metadata": {
        "id": "X_RNegAcISU2"
      },
      "outputs": [
        {
          "name": "stderr",
          "output_type": "stream",
          "text": [
            "  0%|          | 0/223 [00:00<?, ?it/s]"
          ]
        },
        {
          "name": "stdout",
          "output_type": "stream",
          "text": [
            "FPS:  30.0 Frames:  223\n"
          ]
        },
        {
          "name": "stderr",
          "output_type": "stream",
          "text": [
            "100%|██████████| 223/223 [00:08<00:00, 26.45it/s]\n"
          ]
        }
      ],
      "source": [
        "import cv2\n",
        "from tqdm import tqdm\n",
        "from os import path\n",
        "\n",
        "import os\n",
        "\n",
        "inputVideoPath = r'D:\\wav2lip-HD-main\\Wav2Lip-GFPGAN\\inputs\\kim_7s_raw.mp4'\n",
        "unProcessedFramesFolderPath = r'D:\\wav2lip-HD-main\\Wav2Lip-GFPGAN\\outputs\\frames'\n",
        "\n",
        "if not os.path.exists(unProcessedFramesFolderPath):\n",
        "  os.makedirs(unProcessedFramesFolderPath)\n",
        "\n",
        "vidcap = cv2.VideoCapture(inputVideoPath)\n",
        "numberOfFrames = int(vidcap.get(cv2.CAP_PROP_FRAME_COUNT))\n",
        "fps = vidcap.get(cv2.CAP_PROP_FPS)\n",
        "print(\"FPS: \", fps, \"Frames: \", numberOfFrames)\n",
        "\n",
        "for frameNumber in tqdm(range(numberOfFrames)):\n",
        "    _,image = vidcap.read()\n",
        "    cv2.imwrite(path.join(unProcessedFramesFolderPath, str(frameNumber).zfill(4)+'.jpg'), image)\n"
      ]
    },
    {
      "cell_type": "code",
      "execution_count": 3,
      "metadata": {
        "id": "k6krjfxTJYlu"
      },
      "outputs": [
        {
          "name": "stderr",
          "output_type": "stream",
          "text": [
            "chunk:  17%|█▋        | 30/180 [00:00<00:00, 297.53it/s, now=None]"
          ]
        },
        {
          "name": "stdout",
          "output_type": "stream",
          "text": [
            "Moviepy - Building video D:\\wav2lip-HD-main\\Wav2Lip-GFPGAN\\outputs\\synchronizedd_video.mp4.\n",
            "MoviePy - Writing audio in synchronizedd_videoTEMP_MPY_wvf_snd.mp4\n"
          ]
        },
        {
          "name": "stderr",
          "output_type": "stream",
          "text": [
            "t:   1%|          | 2/223 [00:00<00:11, 18.69it/s, now=None]       "
          ]
        },
        {
          "name": "stdout",
          "output_type": "stream",
          "text": [
            "MoviePy - Done.\n",
            "Moviepy - Writing video D:\\wav2lip-HD-main\\Wav2Lip-GFPGAN\\outputs\\synchronizedd_video.mp4\n",
            "\n"
          ]
        },
        {
          "name": "stderr",
          "output_type": "stream",
          "text": [
            "                                                              \r"
          ]
        },
        {
          "name": "stdout",
          "output_type": "stream",
          "text": [
            "Moviepy - Done !\n",
            "Moviepy - video ready D:\\wav2lip-HD-main\\Wav2Lip-GFPGAN\\outputs\\synchronizedd_video.mp4\n",
            "Synchronized video with audio saved: D:\\wav2lip-HD-main\\Wav2Lip-GFPGAN\\outputs\\synchronizedd_video.mp4\n"
          ]
        }
      ],
      "source": [
        "from moviepy.editor import VideoFileClip, concatenate_videoclips, AudioFileClip\n",
        "import os\n",
        "\n",
        "# Directory containing frames\n",
        "frames_dir = r'D:\\wav2lip-HD-main\\Wav2Lip-GFPGAN\\outputs\\frames'\n",
        "\n",
        "# Load audio file\n",
        "audio_path = r'D:\\wav2lip-HD-main\\Wav2Lip-GFPGAN\\inputs\\kimk_audio.mp3'\n",
        "audio_clip = AudioFileClip(audio_path)\n",
        "\n",
        "# Get list of frames (adjust file extension as per your frames)\n",
        "frame_files = [os.path.join(frames_dir, f) for f in os.listdir(frames_dir) if f.endswith('.jpg')]\n",
        "frame_files.sort()  # Sort frames to ensure they are in order\n",
        "\n",
        "# Check if frames exist\n",
        "if not frame_files:\n",
        "    print(f\"No JPEG frames found in {frames_dir}\")\n",
        "    exit()\n",
        "\n",
        "# Create list of VideoFileClip objects from frames\n",
        "video_clips = [VideoFileClip(frame) for frame in frame_files]\n",
        "\n",
        "# Concatenate video clips into a single clip\n",
        "video_clip = concatenate_videoclips(video_clips)\n",
        "\n",
        "# Set audio for the video clip\n",
        "video_clip = video_clip.set_audio(audio_clip)\n",
        "\n",
        "# Write synchronized video with audio\n",
        "output_path = r'D:\\wav2lip-HD-main\\Wav2Lip-GFPGAN\\outputs\\synchronizedd_video.mp4'\n",
        "video_clip.write_videofile(output_path, codec='libx264', audio_codec='aac')\n",
        "\n",
        "# Close the video and audio clips\n",
        "video_clip.close()\n",
        "audio_clip.close()\n",
        "\n",
        "print(\"Synchronized video with audio saved:\", output_path)\n"
      ]
    },
    {
      "cell_type": "markdown",
      "metadata": {},
      "source": []
    },
    {
      "cell_type": "code",
      "execution_count": 9,
      "metadata": {},
      "outputs": [
        {
          "name": "stdout",
          "output_type": "stream",
          "text": [
            "Error: Traceback (most recent call last):\n",
            "  File \"D:\\wav2lip-HD-main\\Wav2Lip-GFPGAN\\GFPGAN-master\\inference_gfpgan.py\", line 7, in <module>\n",
            "    from basicsr.utils import imwrite\n",
            "ModuleNotFoundError: No module named 'basicsr'\n",
            "\n"
          ]
        }
      ],
      "source": [
        "import os\n",
        "from subprocess import run, CalledProcessError\n",
        "\n",
        "# Define paths\n",
        "wav2lip_repo_path = r'D:\\wav2lip-HD-main\\Wav2Lip-GFPGAN\\GFPGAN-master'\n",
        "input_video_path = r'D:\\wav2lip-HD-main\\Wav2Lip-GFPGAN\\inputs\\kim_7s_raw.mp4'\n",
        "input_audio_path = r'D:\\wav2lip-HD-main\\Wav2Lip-GFPGAN\\inputs\\kim_audio.mp3'\n",
        "output_video_path = r'D:\\wav2lip-HD-main\\Wav2Lip-GFPGAN\\outputs\\result_video.mp4'\n",
        "inference_script_path = os.path.join(wav2lip_repo_path, 'inference_gfpgan.py')\n",
        "\n",
        "# Ensure the paths are correct\n",
        "assert os.path.exists(inference_script_path), f\"{inference_script_path} does not exist\"\n",
        "assert os.path.exists(input_video_path), f\"{input_video_path} does not exist\"\n",
        "assert os.path.exists(input_audio_path), f\"{input_audio_path} does not exist\"\n",
        "\n",
        "# Run Wav2Lip inference\n",
        "command = [\n",
        "    'python', inference_script_path,\n",
        "    '--checkpoint_path', os.path.join(wav2lip_repo_path, 'checkpoints/wav2lip_gan.pth'),\n",
        "    '--face', input_video_path,\n",
        "    '--audio', input_audio_path,\n",
        "    '--outfile', output_video_path\n",
        "]\n",
        "\n",
        "try:\n",
        "    result = run(command, capture_output=True, text=True, check=True)\n",
        "    print(result.stdout)\n",
        "    print(f\"Lip-synced video saved at {output_video_path}\")\n",
        "except CalledProcessError as e:\n",
        "    print(\"Error:\", e.stderr)\n"
      ]
    },
    {
      "cell_type": "code",
      "execution_count": 10,
      "metadata": {},
      "outputs": [
        {
          "name": "stdout",
          "output_type": "stream",
          "text": [
            "Final video with audio saved at D:\\wav2lip-HD-main\\Wav2Lip-GFPGAN\\outputs\\final_video_with_audio.mp4\n"
          ]
        }
      ],
      "source": [
        "import subprocess\n",
        "\n",
        "input_video_path = r'D:\\wav2lip-HD-main\\Wav2Lip-GFPGAN\\outputs\\inppp.mp4'\n",
        "input_audio_path = r'D:\\wav2lip-HD-main\\Wav2Lip-GFPGAN\\inputs\\kimk_audio.mp3'\n",
        "output_final_video_path = r'D:\\wav2lip-HD-main\\Wav2Lip-GFPGAN\\outputs\\final_video_with_audio.mp4'\n",
        "\n",
        "command = [\n",
        "    'ffmpeg', '-y', '-i', input_video_path, '-i', input_audio_path,\n",
        "    '-c:v', 'copy', '-c:a', 'aac', '-strict', 'experimental', '-map', '0:v:0', '-map', '1:a:0',\n",
        "    '-shortest', output_final_video_path\n",
        "]\n",
        "\n",
        "subprocess.run(command, check=True)\n",
        "print(f\"Final video with audio saved at {output_final_video_path}\")\n"
      ]
    }
  ],
  "metadata": {
    "accelerator": "GPU",
    "colab": {
      "collapsed_sections": [],
      "name": "Wav2Lip.ipynb",
      "provenance": []
    },
    "gpuClass": "standard",
    "kernelspec": {
      "display_name": "Python 3",
      "name": "python3"
    },
    "language_info": {
      "codemirror_mode": {
        "name": "ipython",
        "version": 3
      },
      "file_extension": ".py",
      "mimetype": "text/x-python",
      "name": "python",
      "nbconvert_exporter": "python",
      "pygments_lexer": "ipython3",
      "version": "3.12.3"
    }
  },
  "nbformat": 4,
  "nbformat_minor": 0
}
